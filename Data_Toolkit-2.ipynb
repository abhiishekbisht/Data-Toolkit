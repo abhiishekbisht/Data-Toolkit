{
 "cells": [
  {
   "cell_type": "markdown",
   "metadata": {},
   "source": [
    "<-------- THEORY QUESTIONS ---------->"
   ]
  },
  {
   "cell_type": "markdown",
   "metadata": {},
   "source": [
    "Ques.1 What is NumPy, and why is it widely used in Python?\n",
    "- NumPy is a library for numerical computing in Python, providing fast operations on multi-dimensional arrays. It is widely used due to its speed, efficiency, and support for advanced mathematical functions."
   ]
  },
  {
   "cell_type": "code",
   "execution_count": 2,
   "metadata": {},
   "outputs": [
    {
     "name": "stdout",
     "output_type": "stream",
     "text": [
      "[2 4 6]\n"
     ]
    }
   ],
   "source": [
    "#Example 1.  -> \n",
    "import numpy as np\n",
    "arr = np.array([1, 2, 3])\n",
    "print(arr * 2)  \n",
    "# Element-wise multiplication"
   ]
  },
  {
   "cell_type": "markdown",
   "metadata": {},
   "source": [
    "Ques.2 How does broadcasting work in NumPy?\n",
    "- Broadcasting allows operations on arrays of different shapes by automatically expanding smaller arrays."
   ]
  },
  {
   "cell_type": "code",
   "execution_count": 3,
   "metadata": {},
   "outputs": [
    {
     "name": "stdout",
     "output_type": "stream",
     "text": [
      "[[2 4 6]\n",
      " [5 7 9]]\n"
     ]
    }
   ],
   "source": [
    "#Example 2.  -> \n",
    "a = np.array([[1, 2, 3], [4, 5, 6]])\n",
    "b = np.array([1, 2, 3])\n",
    "print(a + b)  # b is broadcasted to match 'a'\n"
   ]
  },
  {
   "cell_type": "markdown",
   "metadata": {},
   "source": [
    "Ques.3 What is a Pandas DataFrame?\n",
    "- A DataFrame is a 2D table-like data structure with labeled rows and columns.\n"
   ]
  },
  {
   "cell_type": "code",
   "execution_count": null,
   "metadata": {},
   "outputs": [],
   "source": [
    "#Example 3.  -> \n",
    "import pandas as pd\n",
    "df = pd.DataFrame({'Name': ['Alice', 'Bob'], 'Age': [25, 30]})\n",
    "print(df)\n"
   ]
  },
  {
   "cell_type": "markdown",
   "metadata": {},
   "source": [
    "Ques.4 Explain the use of the groupby() method in Pandas?\n",
    "- Used to group data and apply aggregate functions like sum, mean, etc."
   ]
  },
  {
   "cell_type": "markdown",
   "metadata": {},
   "source": [
    "Ques.5 Why is Seaborn preferred for statistical visualizations?\n",
    "- It provides attractive, statistical plots and works well with Pandas."
   ]
  },
  {
   "cell_type": "markdown",
   "metadata": {
    "vscode": {
     "languageId": "plaintext"
    }
   },
   "source": [
    "Ques.6 What are the differences between NumPy arrays and Python lists?\n",
    "- * NumPy arrays are more efficient for numerical operations than Python lists.\n",
    "  * NumPy arrays are homogeneous while lists can contain mixed data types.\n",
    "  * NumPy provides a wide range of mathematical functions that can be applied to arrays, while lists do not have such built-in capabilities"
   ]
  },
  {
   "cell_type": "markdown",
   "metadata": {
    "vscode": {
     "languageId": "plaintext"
    }
   },
   "source": [
    "Ques.7 What is a heatmap, and when should it be used?\n",
    "- A heatmap is a graphical representation of data using color codes to represent different values."
   ]
  },
  {
   "cell_type": "code",
   "execution_count": null,
   "metadata": {},
   "outputs": [
    {
     "data": {
      "image/png": "[encoded data removed]",
      "text/plain": [
       "<Figure size 640x480 with 2 Axes>"
      ]
     },
     "metadata": {},
     "output_type": "display_data"
    }
   ],
   "source": [
    "#Example 7 ->\n",
    "\n",
    "import matplotlib.pyplot as plt\n",
    "import pandas as pd\n",
    "import seaborn as sns\n",
    "data = pd.DataFrame({'A': [1, 2, 3, 5, 7],\n",
    "                     'B': [2, 3, 5, 6, 8],\n",
    "                     'C': [5, 3, 6, 9, 10]})\n",
    "corr = data.corr()\n",
    "sns.heatmap(corr, annot=True, cmap=\"coolwarm\")\n",
    "plt.show()\n"
   ]
  },
  {
   "cell_type": "markdown",
   "metadata": {},
   "source": [
    "Ques.8 What does the term “vectorized operation” mean in NumPy?\n",
    "- Operations performed on entire arrays without loops, making them faster."
   ]
  },
  {
   "cell_type": "markdown",
   "metadata": {},
   "source": [
    "Ques.9 How does Matplotlib differ from Plotly ?\n",
    "- Matplotlib: Creates static, publication-quality plots. Requires more code for interactivity.\n",
    "Plotly: Generates interactive and dynamic visualizations with built-in zooming and tooltips\n"
   ]
  },
  {
   "cell_type": "markdown",
   "metadata": {},
   "source": [
    "Ques.10 What is the significance of hierarchical indexing in Pandas?\n",
    "- It allows multi-level indexing for better data organization.\n"
   ]
  },
  {
   "cell_type": "markdown",
   "metadata": {},
   "source": [
    "Ques. 11 What is the role of Seaborn’s pairplot() function?\n",
    "-  pairplot() function in Seaborn is used to visualize pairwise relationships in a dataset. It creates a grid of scatter plots for each pair of variables, along with histograms or density plots on the diagonal, making it useful for exploratory data analysis.\n",
    "\n",
    "\n",
    " "
   ]
  },
  {
   "cell_type": "markdown",
   "metadata": {},
   "source": [
    "Ques.12 What is the purpose of the describe() function in Pandas?\n",
    "- The describe() function in Pandas provides a summary of statistics for numerical columns in a DataFrame. It includes count, mean, standard deviation, minimum, and maximum values, which are useful for understanding the distribution of data."
   ]
  },
  {
   "cell_type": "markdown",
   "metadata": {},
   "source": [
    "Ques.13 Why is handling missing data important in Pandas?\n",
    "- Missing data can distort analysis. We can handle it using dropna() or fillna().\n"
   ]
  },
  {
   "cell_type": "markdown",
   "metadata": {},
   "source": [
    "Ques.14 What are the benefits of using Plotly for data visualization?\n",
    "- Interactive plots.\n",
    "- Supports 3D plotting.\n",
    "- Good for dashboards."
   ]
  },
  {
   "cell_type": "markdown",
   "metadata": {},
   "source": [
    "Ques.15 How does NumPy handle multidimensional arrays?\n",
    "- NumPy handles multidimensional arrays using its ndarray object, which can represent arrays of any number of dimensions. You can create, manipulate, and perform operations on these arrays efficiently."
   ]
  },
  {
   "cell_type": "markdown",
   "metadata": {},
   "source": [
    "Ques.16 What is the role of Bokeh in data visualization?\n",
    "- Bokeh is a Python library for creating interactive and visually appealing web-based visualizations. It is particularly useful for web applications and creating interacting plots with features like zooming."
   ]
  },
  {
   "cell_type": "markdown",
   "metadata": {},
   "source": [
    "Ques.17 Explain the difference between apply() and map() in Pandas?"
   ]
  },
  {
   "cell_type": "markdown",
   "metadata": {},
   "source": [
    "Ques.18 A What are some advanced features of NumPy?\n",
    "- NumPy offers a variety of advanced features that enhance its functionality for numerical computing.\n",
    "- Broadcasting , Linear-algebra , advanced indexing and slicing , random number generation etc."
   ]
  },
  {
   "cell_type": "markdown",
   "metadata": {},
   "source": [
    "Ques.19 How does Pandas simplify time series analysis?\n",
    "- Handles datetime indexing, resampling, and rolling windows."
   ]
  },
  {
   "cell_type": "markdown",
   "metadata": {},
   "source": [
    "Ques.20 A What is the role of a pivot table in Pandas?\n",
    "- A pivot table in Pandas is used to summarize and aggregate data based on specific columns. It helps in reshaping data for better analysis.\n",
    "\n"
   ]
  },
  {
   "cell_type": "markdown",
   "metadata": {},
   "source": [
    "Ques.21 Why is NumPy’s array slicing faster than Python’s list slicing?\n",
    "- NumPy slicing returns a view, not a copy, avoiding extra memory usage.\n",
    "- NumPy arrays are stored in contiguous memory, making slicing operations significantly faster."
   ]
  },
  {
   "cell_type": "markdown",
   "metadata": {},
   "source": [
    "Ques.22 What are some common use cases for Seaborn?\n",
    "- Statistical Data Visualization – Used for plotting distributions (histplot, boxplot) and relationships (scatterplot, pairplot).\n",
    "Correlation Analysis – Helps visualize correlations between variables using heatmaps."
   ]
  }
 ],
 "metadata": {
  "kernelspec": {
   "display_name": "Python 3",
   "language": "python",
   "name": "python3"
  },
  "language_info": {
   "codemirror_mode": {
    "name": "ipython",
    "version": 3
   },
   "file_extension": ".py",
   "mimetype": "text/x-python",
   "name": "python",
   "nbconvert_exporter": "python",
   "pygments_lexer": "ipython3",
   "version": "3.13.1"
  }
 },
 "nbformat": 4,
 "nbformat_minor": 2
}
